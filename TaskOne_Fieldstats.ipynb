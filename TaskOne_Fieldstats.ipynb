{
 "cells": [
  {
   "cell_type": "code",
   "execution_count": null,
   "metadata": {},
   "outputs": [],
   "source": [
    "# 数据仓库任务一：字段统计注释"
   ]
  },
  {
   "cell_type": "markdown",
   "metadata": {},
   "source": [
    "## 01张伟"
   ]
  },
  {
   "cell_type": "code",
   "execution_count": null,
   "metadata": {},
   "outputs": [],
   "source": [
    "cur = conn.cursor()\n",
    "cur.execute('select * from tls201_appln');\n",
    "rows = cur.fetchall()\n",
    "df = pd.DataFrame( [[ij for ij in i] for i in rows] )\n",
    "#数量统计 均值 方差等\n",
    "df.describe()\n",
    "\n",
    "#是否存在null\n",
    "df.notnull().sum()\n",
    "df.isnull().sum()\n",
    "\n",
    "#频次以及频率统计\n",
    "pd.set_option('display.width', 1000)\n",
    "pd.set_option('display.max_rows', 20)\n",
    "a=pd.value_counts(df.appln_kind)\n",
    "print(a/a.sum())\n",
    "print(a)"
   ]
  },
  {
   "cell_type": "markdown",
   "metadata": {},
   "source": [
    "## 03刘慧"
   ]
  },
  {
   "cell_type": "code",
   "execution_count": null,
   "metadata": {},
   "outputs": [],
   "source": [
    "table_a=pd.read_csv('tls201_appln-1.csv') #从CSV读入数据"
   ]
  },
  {
   "cell_type": "markdown",
   "metadata": {},
   "source": [
    "## 04林达滔"
   ]
  },
  {
   "cell_type": "code",
   "execution_count": null,
   "metadata": {},
   "outputs": [],
   "source": [
    "#有年份和日期的数据只有年份的数据\n",
    "date=['appln_filing_date']#此处可填充其他同类型数据名\n",
    "for i in date:\n",
    "    day=tls201[i].copy()\n",
    "    new=old=day[0]\n",
    "    for b in range(1,day.shape[0]-1):\n",
    "        if(day[b].year!=9999):\n",
    "            if(day[b]>new):\n",
    "                new=day[b];\n",
    "            if(day[b]<=old):\n",
    "                old=day[b];\n",
    "    print('最新的',i,new)\n",
    "    print('最早的',i,old)\n",
    "    print('————————————————————')"
   ]
  },
  {
   "cell_type": "markdown",
   "metadata": {},
   "source": [
    "该程序运行效率过低，可以考虑改进"
   ]
  },
  {
   "cell_type": "code",
   "execution_count": null,
   "metadata": {},
   "outputs": [],
   "source": [
    "pd.set_option('display.float_format',lambda x : '%.2f' % x)\n",
    "#由于pandas在输出数字时会使用科学计数法，故而此处设置一下关闭科学计数法，有小数时保留小数点后两位"
   ]
  },
  {
   "cell_type": "markdown",
   "metadata": {},
   "source": [
    "该方法较好，可以控制全局输出的小数点。"
   ]
  },
  {
   "cell_type": "markdown",
   "metadata": {},
   "source": [
    "## 05林可菁"
   ]
  },
  {
   "cell_type": "code",
   "execution_count": null,
   "metadata": {},
   "outputs": [],
   "source": [
    "date=appln[\"EARLIEST_FILING_DATE\"].tolist()\n",
    "date.remove(date[0])\n",
    "list=[]\n",
    "for i in date:\n",
    "    if i != 0:\n",
    "        list.append(i)\n",
    "print('最早日期：'+ str(min(list))+',最晚日期'+ str(max(list)))"
   ]
  },
  {
   "cell_type": "markdown",
   "metadata": {},
   "source": [
    "最早日期：1900-01-01,最晚日期1900-12-20 这个方法没有控制好 9999-12-31"
   ]
  },
  {
   "cell_type": "markdown",
   "metadata": {},
   "source": [
    "## 06彭宇晖"
   ]
  },
  {
   "cell_type": "code",
   "execution_count": null,
   "metadata": {},
   "outputs": [],
   "source": [
    "def Extract(sql2):\n",
    "    # 以tls201_appln表的国别appln_auth为例。\n",
    "    # 首先提取数据\n",
    "    cur=conn.cursor()\n",
    "    cur.execute(sql2)\n",
    "    LIST11=[] #将取出的数据放在一个List之中\n",
    "    while 1:\n",
    "        res=cur.fetchone()\n",
    "        if res is None:\n",
    "            #表示已经取完结果集\n",
    "            break\n",
    "        LIST11.append(res[0]) \n",
    "\n",
    "    cur.close()\n",
    "    conn.commit()\n",
    "    conn.close()\n",
    "    return LIST11\n",
    "\n",
    "A=[]\n",
    "B=[]\n",
    "C=[]\n",
    "\n",
    "for i in list:\n",
    "    sql2=\"select \"+i+\" from tls201_appln\"\n",
    "    TYPE=type(Extract(sql2)[0])\n",
    "    if str(TYPE)==\"<class 'str'>\":\n",
    "        A.append(i)\n",
    "    if str(TYPE)==\"<class 'int'>\":\n",
    "        B.append(i)\n",
    "    if str(TYPE)==\"<class 'datetime.datetime'>\":\n",
    "        C.append(i)"
   ]
  },
  {
   "cell_type": "markdown",
   "metadata": {},
   "source": [
    "整体思路，迭代根据不同类型数据进行遍历，此思路较好。\n",
    "最后时间分类应该改为'datetime.date'。\n",
    "建议可以后续代码可以借鉴`07陈秋颖`、`23李昊璟`等同学的思路，可以针对表中的全部字段逐一展开分析，而不需要具体指定字段。\n",
    "下面一种方法也可以快速调用所有表、字段、类型，可供参考。"
   ]
  },
  {
   "cell_type": "code",
   "execution_count": null,
   "metadata": {},
   "outputs": [],
   "source": [
    "sql1 = \"\"\"SELECT TABLE_NAME,COLUMN_NAME,DATA_TYPE\n",
    "FROM information_schema.COLUMNS\n",
    "WHERE TABLE_SCHEMA ='patstat2018bsample'\"\"\""
   ]
  },
  {
   "cell_type": "markdown",
   "metadata": {},
   "source": [
    "## 07陈秋颖"
   ]
  },
  {
   "cell_type": "code",
   "execution_count": null,
   "metadata": {},
   "outputs": [],
   "source": [
    "#导入需要的包\n",
    "library(RMySQL)\n",
    "\n",
    "#设置语言运行环境\n",
    "Sys.setlocale('LC_ALL', 'C')\n",
    "\n",
    "#建立MySQL连接\n",
    "con <- dbConnect(MySQL(), host = \"127.0.0.1\", dbname = \"patstat2018b\",  username = \"root\",  password = \"*****\")\n",
    "#查看数据库patstat2018b中的表格\n",
    "dbListTables(con)\n",
    "\n",
    "#创建函数 analysis函数\n",
    "analysis <- function(data){\n",
    "  cat(\"\\n\\n\", tables[i], \" statistical results:\", \"\\n\")\n",
    "  \n",
    "  #查看表格的行数和列数\n",
    "  dim(data)\n",
    "  #记录表格行数\n",
    "  n <- nrow(data)\n",
    "  \n",
    "  #统计表格中各属性的数据类型\n",
    "  type <- cbind(colnames(data), sapply(data, function(y){class(y)}))\n",
    "  #记录名字含有date的属性\n",
    "  date <- grep(\"date\", type[, 1])\n",
    "  \n",
    "  #将关于date的数据类型转变为Date\n",
    "  if(length(date)!= 0){\n",
    "    for(j in 1:length(date)){\n",
    "      data[, date[j]] <- as.Date(data[, date[j]])\n",
    "    }\n",
    "  }\n",
    "  \n",
    "  #重新统计表格中各属性的数据类型\n",
    "  type <- cbind(colnames(data), sapply(data, function(y){class(y)}))\n",
    "  \n",
    "  #统计ID型数据、申请号（nr）数据、分类型数据（文本型数据）、数量型数据\n",
    "  id <- grep(\"id\", type[, 1])\n",
    "  nr <- grep(\"nr\", type[, 1])\n",
    "  char <- grep(\"character\", type[, 2])\n",
    "  char1 <- char[which(char %in% nr == FALSE)]\n",
    "  integer <- grep(\"integer\", type[, 2])\n",
    "  integer <- integer[which(integer %in% id == FALSE)]\n",
    "  \n",
    "  #判断表格是否含有分类型数据\n",
    "  if(length(char1) != 0){\n",
    "    cat(\"\\n\\n\", tables[i], \"--statistical results of classified data:\", \"\\n\")\n",
    "    \n",
    "    #创建列表list1\n",
    "    list1 <- list()\n",
    "    \n",
    "    for(j in 1:length(char1)){\n",
    "      \n",
    "      #统计分类型数据频次\n",
    "      freq <- as.data.frame(table(data[, type[char1[j]]]))\n",
    "      #计算频率并合并表格\n",
    "      freq <- cbind(freq, (freq$Freq)/n)\n",
    "      #重命名列名\n",
    "      colnames(freq) <- c(colnames(data[char1[j]]), \"Freq\", \"Rate\")\n",
    "      \n",
    "      #多分类如果超过20类，则仅统计前20项\n",
    "      list1[[j]] <- head(freq[order(-freq[, 2]), ], 20)\n",
    "    }\n",
    "    #展示分类型数据统计结果\n",
    "    print(list1)\n",
    "    \n",
    "  }else{\n",
    "    #如果表格不含有分类型数据，则加以说明\n",
    "    cat(tables[i], \"does not exist classified data other than application numbers\", \"\\n\\n\")\n",
    "  }\n",
    "  \n",
    "  #判断表格是否含有数量型数据\n",
    "  if(length(integer) != 0){\n",
    "    cat(\"\\n\\n\", tables[i], \"--statistical results of numeric data:\", \"\\n\")\n",
    "    \n",
    "    #创建列表list2\n",
    "    list2 <- list()\n",
    "    \n",
    "    for(j in 1:length(integer)){\n",
    "      \n",
    "      #读入数量型数据\n",
    "      intdata <- data[, type[integer[j]]]\n",
    "      #分别统计最大值、最小值、平均值、方差\n",
    "      list2[[j]] <- c(type[integer[j]], max = max(intdata), min = min(intdata), mean = round(mean(intdata), 3), var = round(var(intdata), 3))\n",
    "    }\n",
    "    #展示数量型数据统计结果\n",
    "    print(list2)\n",
    "    \n",
    "  }else{\n",
    "    #如果表格不含有数量型数据，则加以说明\n",
    "    cat(tables[i], \"does not exist numeric data other than ID type\", \"\\n\\n\")\n",
    "  }\n",
    "  \n",
    "  #判断表格是否含有日期型数据\n",
    "  if(length(date) != 0){\n",
    "    cat(\"\\n\\n\", tables[i], \"--statistical results of date data:\", \"\\n\")\n",
    "    \n",
    "    #创建列表list3\n",
    "    list3 <- list()\n",
    "    \n",
    "    for(j in 1:length(date)){\n",
    "      \n",
    "      #读入日期型数据（排除\"9999-12-31\"的日期型数据）\n",
    "      realdate <- data[which(data[, date[j]]!= \"9999-12-31\"), date[j]]\n",
    "      #分别统计最早日期、最晚日期\n",
    "      list3[[j]] <- c(type[date[j]], min = as.character(min(realdate)), max = as.character(max(realdate)))\n",
    "    }\n",
    "    #展示日期型数据统计结果\n",
    "    print(list3)\n",
    "    \n",
    "  }else{\n",
    "    #如果表格不含有日期型数据，则加以说明\n",
    "    cat(tables[i], \"does not exist date data\", \"\\n\\n\")\n",
    "  }\n",
    "  \n",
    "  #判断表格是否含有文本型数据\n",
    "  if(length(char) != 0){\n",
    "    cat(\"\\n\\n\", tables[i], \"--statistical results of text data:\", \"\\n\")\n",
    "    \n",
    "    #创建列表list4\n",
    "    list4 <- list()\n",
    "    \n",
    "    for(j in 1:length(char)){\n",
    "      \n",
    "      #读入文本型数据\n",
    "      chardata <- data[, type[char[j]]]\n",
    "      #统计文本型数据的字段长度\n",
    "      nchardata <- nchar(chardata)\n",
    "      #分别统计字段平均长度、长度最小值、长度最大值\n",
    "      list4[[j]] <- c(type[char[j]], mean = round(mean(nchardata), 3), min = min(nchardata), max = max(nchardata))\n",
    "    }\n",
    "    #展示文本型数据统计结果\n",
    "    print(list4)\n",
    "    \n",
    "  }else{\n",
    "    #如果表格不含有文本型数据，则加以说明\n",
    "    cat(tables[i], \"does not exist text data\", \"\\n\\n\")\n",
    "  }\n",
    "}\n",
    "\n",
    "#读入数据库patstat2018b中的表格\n",
    "tables <- dbListTables(con)\n",
    "\n",
    "#分别对表格进行表统计与字段统计\n",
    "for(i in 1:length(tables)){\n",
    "  data <- dbReadTable(con, tables[i])\n",
    "  analysis(data)\n",
    "}"
   ]
  },
  {
   "cell_type": "markdown",
   "metadata": {},
   "source": [
    "非常欣赏这段代码，列出来供大家的参考。"
   ]
  },
  {
   "cell_type": "markdown",
   "metadata": {},
   "source": [
    "## 08伍忠洋"
   ]
  },
  {
   "cell_type": "markdown",
   "metadata": {},
   "source": [
    "```mysql\n",
    "/*2.数量型数据：描述性统计（包括，最大值、最小值、平均值、方差）。*/\n",
    "SELECT max(techn_field_nr) maxfield,MIN(techn_field_nr) minfield, avg(techn_field_nr) avgfield, STD(techn_field_nr) stdfield from tls230_appln_techn_field;\n",
    "\n",
    "/*3.日期型数据：输出最早、最晚日期，最晚不得是9999-12-31。*/\n",
    "SELECT MAX(appln_filing_date) maxdata, MIN(appln_filing_date) mindata from tls201_appln where appln_filing_date <'3000-1-1';\n",
    "\n",
    "/*4.字段类型（文本型）：统计字段平均长度、长度最小值、长度最大值。*/\n",
    "SELECT MAX(CHAR_LENGTH(continent)) max_char_length, MIN(CHAR_LENGTH(continent)) min_char_length, AVG(CHAR_LENGTH(continent)) avg_char_length FROM tls801_country;\n",
    "```"
   ]
  },
  {
   "cell_type": "markdown",
   "metadata": {},
   "source": [
    "纯用SQL语言操作也是一种思路。"
   ]
  },
  {
   "cell_type": "markdown",
   "metadata": {},
   "source": [
    "## 09杨秋颖"
   ]
  },
  {
   "cell_type": "code",
   "execution_count": null,
   "metadata": {},
   "outputs": [],
   "source": [
    "max=min=data[0]\n",
    "for i in range(1,data.shape[0]-1):\n",
    "    if(data[i].year!=9999):\n",
    "        if(data[i]>max):\n",
    "            max=data[i];\n",
    "        elif(data[i]<min):\n",
    "            min=data[i];"
   ]
  },
  {
   "cell_type": "markdown",
   "metadata": {},
   "source": [
    "对四类不同类型的数据进行了分析。上述日期的处理方法不错，但整体结果呈现方面不统一。"
   ]
  },
  {
   "cell_type": "markdown",
   "metadata": {},
   "source": [
    "## 10王可欣"
   ]
  },
  {
   "cell_type": "markdown",
   "metadata": {},
   "source": [
    "利用R语言实现全部的分析，非常优秀。未来可以考虑用`tidyverse`风格的包来写脚本，这样输出的效果、代码的一致性会提升。"
   ]
  },
  {
   "cell_type": "markdown",
   "metadata": {},
   "source": [
    "## 11杨洁"
   ]
  },
  {
   "cell_type": "code",
   "execution_count": null,
   "metadata": {},
   "outputs": [],
   "source": [
    "select avg(nb_applicants) from ( #最外层开始\n",
    "   select appln_id, nb_applicants from ( #第二层开始\n",
    "         select appln_id, @index:=@index+1 as myindex, nb_applicants from tls201_appln, (select @index:=0) as initvar order by nb_applicants #最内层\n",
    "    ) as t where floor(@index/2+1)=myindex or ceil(@index/2)=myindex #第二层结束\n",
    ") as x  #最外层结束"
   ]
  },
  {
   "cell_type": "markdown",
   "metadata": {},
   "source": [
    "`11杨洁`同学计算了中位数。MYSQL没有直接计算中位数的函数。"
   ]
  },
  {
   "cell_type": "markdown",
   "metadata": {},
   "source": [
    "## 12杨贺"
   ]
  },
  {
   "cell_type": "code",
   "execution_count": null,
   "metadata": {},
   "outputs": [],
   "source": [
    "table201['APPLN_NR'].sum() ##？？？"
   ]
  },
  {
   "cell_type": "code",
   "execution_count": null,
   "metadata": {},
   "outputs": [],
   "source": [
    "table209['IPC_GENER_AUTH'].value_counts()[:20]/table209['IPC_GENER_AUTH'].value_counts()[:20].sum()"
   ]
  },
  {
   "cell_type": "markdown",
   "metadata": {},
   "source": [
    "第二段代码原本我们是要求每个类表占全部数量的百分比，而不是前20类的百分比。"
   ]
  },
  {
   "cell_type": "code",
   "execution_count": null,
   "metadata": {},
   "outputs": [],
   "source": [
    "APPLN_FILING_DATE_max=table201['APPLN_FILING_DATE'].max()\n",
    "APPLN_FILING_DATE_min=table201['APPLN_FILING_DATE'].min()\n",
    "print(\"APPLN_FILING_DATE最早最晚分别为\",APPLN_FILING_DATE_min,APPLN_FILING_DATE_max)\n",
    "# APPLN_FILING_DATE最早最晚分别为 2001-01-01 2031-12-01"
   ]
  },
  {
   "cell_type": "markdown",
   "metadata": {},
   "source": [
    "结果可能有问题。"
   ]
  },
  {
   "cell_type": "markdown",
   "metadata": {},
   "source": [
    "## 13代罡松"
   ]
  },
  {
   "cell_type": "code",
   "execution_count": null,
   "metadata": {},
   "outputs": [],
   "source": [
    "df3=df1[\"appln_auth\"].value_counts()\n",
    "df4=df2\n",
    "result=pd.concat([df3,df4],axis=1)\n",
    "result.head(20)"
   ]
  },
  {
   "cell_type": "code",
   "execution_count": null,
   "metadata": {},
   "outputs": [],
   "source": [
    "# 利用pd.concat使得打印效果会好，但列名则均为“appln_auth”，这个效果并不好，可以考虑改进。"
   ]
  },
  {
   "cell_type": "markdown",
   "metadata": {},
   "source": [
    "## 14孙晨煜"
   ]
  },
  {
   "cell_type": "markdown",
   "metadata": {},
   "source": [
    "用KNIME实现，但这样这样缺乏自动化的过程。可以考虑更自动化的来统计字段信息。"
   ]
  },
  {
   "cell_type": "markdown",
   "metadata": {},
   "source": [
    "## 15向娇阳"
   ]
  },
  {
   "cell_type": "markdown",
   "metadata": {},
   "source": [
    "用SPSS实现。非常细致。"
   ]
  },
  {
   "cell_type": "markdown",
   "metadata": {},
   "source": [
    "## 16付初"
   ]
  },
  {
   "cell_type": "code",
   "execution_count": null,
   "metadata": {},
   "outputs": [],
   "source": [
    "#输出最大日期和最小日期\n",
    "q=tls201.appln_filing_date\n",
    "q=q.replace('9999-12-31','2000-00-00')#替换成一个居中的日期，这样既不会影响最大日期也不会影响最小日期\n",
    "d=tuple(q.sort_values())\n",
    "print(\"最大日期是：\",d[len(d)-1])\n",
    "print(\"最小日期是：\",d[0])"
   ]
  },
  {
   "cell_type": "markdown",
   "metadata": {},
   "source": [
    "是一种思路，在你给出的单个字段的处理中或许没有问题，但如果是采用替换的方法，会在一定程度上改变日期的统计分布。\n",
    "推荐`25金涛`同学日期的处理方法。"
   ]
  },
  {
   "cell_type": "markdown",
   "metadata": {},
   "source": [
    "## 17陈月"
   ]
  },
  {
   "cell_type": "markdown",
   "metadata": {},
   "source": [
    "很巧妙的利用了SQL语句来提取数据，这样可以减少数据IO的量。"
   ]
  },
  {
   "cell_type": "code",
   "execution_count": null,
   "metadata": {},
   "outputs": [],
   "source": [
    "#设置平均数函数\n",
    "def table_avg(table,column):\n",
    "    sql='SELECT AVG(%s) FROM %s' % (column,table)\n",
    "    cursor.execute(sql)\n",
    "    result=cursor.fetchone()\n",
    "    df = pd.DataFrame({column:[column],'avg':[result]})\n",
    "    print(df)\n",
    "    \n",
    "table_avg('tls901_techn_field_ipc','techn_field_nr')"
   ]
  },
  {
   "cell_type": "markdown",
   "metadata": {},
   "source": [
    "上述写法`%(column,table)`的例子要谨慎使用，它涉及到了MYSQL防注入的问题。虽然，本例子中你不涉及。\n",
    "具体可以参见以下例子："
   ]
  },
  {
   "cell_type": "code",
   "execution_count": null,
   "metadata": {},
   "outputs": [],
   "source": [
    "#! /usr/bin/env python\n",
    "# -*- coding:utf-8 -*-\n",
    "import pymysql\n",
    " \n",
    "conn = pymysql.connect(host='127.0.0.1', port=3306, user='root', passwd='', db='User')\n",
    "cursor = conn.cursor()\n",
    "username= input()\n",
    "password =input()\n",
    "\n",
    "#执行参数化查询\n",
    "row_count=cursor.execute(\"select user,pwd from User where user='%s' and pwd='%s'\" ,(username,password))\n",
    "#execute()函数本身就有接受SQL语句变量的参数位，只要正确的使用（直白一点就是：使用”逗号”，而不是”百分号”）就可以对传入的值进行correctly转义，从而避免SQL注入的发生。\n",
    "\n",
    "\n",
    "#内部执行参数化生成的SQL语句，对特殊字符进行了加\\转义，避免注入语句生成。\n",
    "# sql=cursor.mogrify(\"select user,pwd from User where user='%s' and pwd='%s'\" ,(username,password))\n",
    "# print (sql)\n",
    " \n",
    "row_1 = cursor.fetchone()\n",
    "print(row_count,row_1)\n",
    " \n",
    "conn.commit()\n",
    "cursor.close()\n",
    "conn.close()"
   ]
  },
  {
   "cell_type": "markdown",
   "metadata": {},
   "source": [
    "当输入了上面的用户名和密码，服务端的sql就变成：\n",
    "username：` ‘or 1 = 1 –-`\n",
    "password：``\n",
    "```mysql\n",
    "sql = \"select user,pwd from User where user=‘'or 1 = 1 –-' and pwd='%s'\"\n",
    "```\n",
    "因为条件后面username=”or 1=1 用户名等于 ” 或1=1 那么这个条件一定会成功；然后后面加两个-，这意味着注释，它将后面的语句注释，让他们不起作用，这样语句永远都能正确执行，用户轻易骗过系统，获取合法身份。"
   ]
  },
  {
   "cell_type": "markdown",
   "metadata": {},
   "source": [
    "第二点，目前来看，这种拼接参数的方法，似乎每次只计算一次如，仅计算AVG，似乎效率有点低。是否有更高效的同时计算多个值方法。"
   ]
  },
  {
   "cell_type": "code",
   "execution_count": null,
   "metadata": {},
   "outputs": [],
   "source": [
    "## 18余欣"
   ]
  },
  {
   "cell_type": "code",
   "execution_count": null,
   "metadata": {},
   "outputs": [],
   "source": [
    "很标准的SQL语句，对数值型、分类型、日期型的数据分别进行了分析"
   ]
  },
  {
   "cell_type": "code",
   "execution_count": null,
   "metadata": {},
   "outputs": [],
   "source": [
    "## 19王雪蓉"
   ]
  },
  {
   "cell_type": "markdown",
   "metadata": {},
   "source": [
    "(d)日期型数据：输出最早、最晚日期，最晚不得是9999-12-31,已经在describe中进行了比较。"
   ]
  },
  {
   "cell_type": "markdown",
   "metadata": {},
   "source": [
    "但实际输出结果，如‘EARLIEST_FILING_YEAR’并没有排除‘9999’，因此，需要注意。还有如果在整体数据中排出‘9999’实际是一个删除操作，就是删掉所有时间为‘9999’的专利，这样如果是统计数量则可能与其他同学的存在差异。"
   ]
  },
  {
   "cell_type": "code",
   "execution_count": null,
   "metadata": {},
   "outputs": [],
   "source": [
    "## 20冯泽宇"
   ]
  },
  {
   "cell_type": "markdown",
   "metadata": {},
   "source": [
    "与前面同学做的PYTHON脚步类似。建议结果能有更规范化，或者是表格式输出。"
   ]
  },
  {
   "cell_type": "markdown",
   "metadata": {},
   "source": [
    "## 21高爽"
   ]
  },
  {
   "cell_type": "markdown",
   "metadata": {},
   "source": [
    "`21高爽`同学做的SQL语句非常细致。这里使列举一个例子和`18余欣`同学的语句进行比较"
   ]
  },
  {
   "cell_type": "markdown",
   "metadata": {},
   "source": [
    "```mysql\n",
    "#  21高爽同学代码\n",
    "select ipc_version, nr_ipc_version, concat(round(nr_ipc_version / total*100, 4),'%') ratio from(\n",
    "   select * from (select ipc_version, count(1) nr_ipc_version from tls209_appln_ipc\n",
    "   group by ipc_version\n",
    "   order by nr_ipc_version desc\n",
    "   limit 20 ) temp1\n",
    "   inner join\n",
    "   (select count(1) total from tls209_appln_ipc) temp2\n",
    "   on 1=1\n",
    ") temp3\n",
    "```\n",
    "```mysql\n",
    "# 18余欣同学代码\n",
    "/*39.ipc_version 日期型数据*/\n",
    "SELECT\n",
    "    MIN( ipc_version ) AS 最早日期,\n",
    "    MAX( ipc_version ) AS 最晚日期 \n",
    "FROM\n",
    "    tls209_appln_ipc\n",
    "WHERE\n",
    "    ipc_version <> '9999-12-31';\n",
    "```"
   ]
  },
  {
   "cell_type": "markdown",
   "metadata": {},
   "source": [
    "上面代码的最大区别在于两位同学对`ipc_version`这个字段类型的理解，虽然，两种方法并无对错之别，`ipc_version`的确也是一个日期类型的数据，但实际上其含义更倾向于一个说明书的版本号。因此，我个人觉得`21高爽`作为分类进行统计的方法可能更适合。"
   ]
  },
  {
   "cell_type": "markdown",
   "metadata": {},
   "source": [
    "## 22郭耀元"
   ]
  },
  {
   "cell_type": "markdown",
   "metadata": {},
   "source": [
    "以下是`22郭耀元`对非空值的计算方法，与`df.isnull().sum()`方法稍有不同。"
   ]
  },
  {
   "cell_type": "code",
   "execution_count": null,
   "metadata": {},
   "outputs": [],
   "source": [
    "df201.shape[0]-df201.count(axis=0)"
   ]
  },
  {
   "cell_type": "markdown",
   "metadata": {},
   "source": [
    "## 23李昊璟"
   ]
  },
  {
   "cell_type": "markdown",
   "metadata": {},
   "source": [
    "`23李昊璟`同学的思路非常好。首先是采用了`mysql.connector`包，其次，他用了四个非常简洁的函数来表达四种不同类型的统计：\n",
    "分别是：CalNUM、Calcate、CalText、CalDate"
   ]
  },
  {
   "cell_type": "code",
   "execution_count": null,
   "metadata": {},
   "outputs": [],
   "source": [
    "def CalNUM(arr):\n",
    "    try:\n",
    "        print(\"平均值为：\"+str(arr.mean()))\n",
    "        print(\"方差为:\"+str(arr.var(ddof=0)))\n",
    "        print(\"最大值为：\"+str(arr.max()))\n",
    "        print(\"最小值为：\"+str(arr.min()))\n",
    "    except:\n",
    "        print(\"检查数据类型\")"
   ]
  },
  {
   "cell_type": "code",
   "execution_count": null,
   "metadata": {},
   "outputs": [],
   "source": [
    "def CalDate(arr):\n",
    "    latestdate=arr[0]\n",
    "    earliestdate=arr[0]\n",
    "    for i in range(1,len(arr)):\n",
    "        if arr[i]!=datetime.date(9999,12,31):\n",
    "            if arr[i]>latestdate:\n",
    "                latestdate=arr[i]\n",
    "            if arr[i]<earliestdate:\n",
    "                earliestdate=arr[i]\n",
    "    return earliestdate,latestdate"
   ]
  },
  {
   "cell_type": "code",
   "execution_count": null,
   "metadata": {},
   "outputs": [],
   "source": [
    "def CalText(arr):\n",
    "    TextLength=len(arr[0])\n",
    "    LongestLength=len(arr[0])\n",
    "    ShortestLength=len(arr[0])\n",
    "    for i in range(1,len(arr)):\n",
    "        TextLength=TextLength+len(arr[i])\n",
    "        if len(arr[i])<ShortestLength:\n",
    "            ShortestLength=len(arr[i])\n",
    "        if len(arr[i])>LongestLength:\n",
    "            LongestLength=len(arr[i])      \n",
    "    return LongestLength,ShortestLength,TextLength/len(arr)"
   ]
  },
  {
   "cell_type": "code",
   "execution_count": null,
   "metadata": {},
   "outputs": [],
   "source": [
    "def Calcate(arr):\n",
    "    counts = {}\n",
    "    for word in arr:\n",
    "        counts[word] = counts.get(word, 0) + 1\n",
    "        items = list(counts.items())\n",
    "        items.sort(key=lambda x: x[1], reverse=True)\n",
    "    for i in range(min(20,len(items))):   #输出前20\n",
    "        word, count = items[i]\n",
    "        print(str(word),str(count),str(count/len(arr)))"
   ]
  },
  {
   "cell_type": "markdown",
   "metadata": {},
   "source": [
    "当然，上述代码也有改进之处，例如可以结合`25金涛`同学的代码使整个过程更流畅。例如，针对CalNUM"
   ]
  },
  {
   "cell_type": "code",
   "execution_count": null,
   "metadata": {},
   "outputs": [],
   "source": [
    "def sql_execute(sql):\n",
    "    mycursor= mydb.cursor()\n",
    "    mycursor.execute(sql)\n",
    "    myresult = mycursor.fetchall() \n",
    "    cols = mycursor.description\n",
    "    col = []\n",
    "    for i in cols:\n",
    "        col.append(i[0])\n",
    "        myresult=list(map(list,myresult))\n",
    "    myresult = pd.DataFrame(myresult,columns=col) \n",
    "    return myresult \n",
    "\n",
    "def CalNUM(arr):\n",
    "    try:\n",
    "        print(\"平均值为：\"+str(arr.mean()))\n",
    "        print(\"方差为:\"+str(arr.var(ddof=0)))\n",
    "        print(\"最大值为：\"+str(arr.max()))\n",
    "        print(\"最小值为：\"+str(arr.min()))\n",
    "    except:\n",
    "        print(\"检查数据类型\")\n",
    "\n",
    "for i in range(0,data.shape[1]):\n",
    "    print(data.keys()[i],\"\\n\")\n",
    "    print(CalNUM(data.iloc[:,i].dropna()),\"\\n\")"
   ]
  },
  {
   "cell_type": "markdown",
   "metadata": {},
   "source": [
    "当然，最好还是能够`07陈秋颖`同学的代码那样，将各部分的各种类型组合起来统一输出。"
   ]
  },
  {
   "cell_type": "markdown",
   "metadata": {},
   "source": [
    "## 24尹梦瑶"
   ]
  },
  {
   "cell_type": "markdown",
   "metadata": {},
   "source": [
    "利用SQL对全部字段进行了逐一的描述统计。"
   ]
  },
  {
   "cell_type": "markdown",
   "metadata": {},
   "source": [
    "## 25金涛"
   ]
  },
  {
   "cell_type": "code",
   "execution_count": null,
   "metadata": {},
   "outputs": [],
   "source": [
    "#tls201 分类型数据\n",
    "sql201_1 = \"SELECT tls201_appln.appln_auth,tls201_appln.appln_kind,tls201_appln.int_phase,tls201_appln.reg_phase,tls201_appln.nat_phase FROM tls201_appln\"\n",
    "cursor.execute(sql201_1)\n",
    "results201_1 = cursor.fetchall()\n",
    "cols = cursor.description\n",
    "col = []\n",
    "for i in cols:\n",
    "    col.append(i[0])\n",
    "    results201_1=list(map(list,results201_1))\n",
    "results201_1 = pd.DataFrame(results201_1,columns=col) #转换成dataframe\n",
    "\n",
    "for i in range(0,results201_1.shape[1]): \n",
    "    print(results201_1.iloc[:,i].value_counts().head(20)) #频次\n",
    "    print(\"\\n\")\n",
    "    print((results201_1.iloc[:,i].value_counts()/sum(results201_1.iloc[:,i].value_counts())).head(20)) #频次百分比\n",
    "    print(\"\\n\")"
   ]
  },
  {
   "cell_type": "code",
   "execution_count": null,
   "metadata": {},
   "outputs": [],
   "source": [
    "#tls201 日期型数据\n",
    "sql201_3 = \"SELECT tls201_appln.appln_filing_date,tls201_appln.earliest_filing_date,tls201_appln.earliest_publn_date FROM tls201_appln\"\n",
    "cursor.execute(sql201_3)\n",
    "results201_3 = cursor.fetchall()\n",
    "cols = cursor.description\n",
    "col = []\n",
    "for i in cols:\n",
    "    col.append(i[0])\n",
    "    results201_3=list(map(list,results201_3))\n",
    "results201_3 = pd.DataFrame(results201_3,columns=col) #转换成dataframe\n",
    "max=results201_3.apply(lambda x: x.sort_values().unique()[-2], axis=0)\n",
    "min=results201_3.apply(lambda x: x.sort_values().unique()[0], axis=0)\n",
    "print(max)\n",
    "print(min)"
   ]
  },
  {
   "cell_type": "markdown",
   "metadata": {},
   "source": [
    "思路很清晰，逻辑也很不错。"
   ]
  },
  {
   "cell_type": "markdown",
   "metadata": {},
   "source": [
    "## 26陈俊璇"
   ]
  },
  {
   "cell_type": "markdown",
   "metadata": {},
   "source": [
    "利用SQL对全部字段进行了逐一的描述统计。"
   ]
  },
  {
   "cell_type": "markdown",
   "metadata": {},
   "source": [
    "## 27潘倩月"
   ]
  },
  {
   "cell_type": "markdown",
   "metadata": {},
   "source": [
    "利用KNIME实现对全部字段的分析。\n",
    "有以下几个小问题可以注意：（1）时间‘9999’没有排除，至少在201表中。"
   ]
  },
  {
   "cell_type": "code",
   "execution_count": null,
   "metadata": {},
   "outputs": [],
   "source": [
    "## 28谭悦"
   ]
  },
  {
   "cell_type": "code",
   "execution_count": null,
   "metadata": {},
   "outputs": [],
   "source": [
    "利用KNIME实现对全部字段的分析。\n",
    "# 勾选了Median取值；\n",
    "# 多分类超过20类仅统计Top/Bottom 20；\n",
    "# 根据日期型数据数量将最大数量调整为30,000（实际为27,900左右）\n",
    "实际上在做分类数据的描述性统计时，还有\n",
    "问题：\n",
    "似乎也没有注意时间‘9999’没有排除。"
   ]
  },
  {
   "cell_type": "markdown",
   "metadata": {},
   "source": [
    "## 29张隽若"
   ]
  },
  {
   "cell_type": "markdown",
   "metadata": {},
   "source": [
    "用STATA实现对全部字段的分析。\n",
    "STATA、SPSS等工具对数据进行描述统计还是非常方便的，统计指标也很完整。\n",
    "`29张隽若`也链接了数据库。"
   ]
  },
  {
   "cell_type": "markdown",
   "metadata": {},
   "source": [
    "## 30周雨涵"
   ]
  },
  {
   "cell_type": "code",
   "execution_count": null,
   "metadata": {},
   "outputs": [],
   "source": [
    "```mysql\n",
    "# 原始代码\n",
    "/*（b）数量型数据：描述性统计（包括，最大值、最小值、平均值、方差）。*/\n",
    "create table t2(\n",
    "  max_value int unsigned not null,\n",
    "\tmin_value int unsigned not null,\n",
    "\tavg_value int unsigned not null      \n",
    ");engine=innodb default charset=utf8\n",
    "\n",
    "std_value int unsigned not null;\n",
    "select max(appln_id), min(appln_id), AVG(DISTINCT appln_id), STD(appln_id) \n",
    "from tls201_appln \n",
    "as max_value, min_value, avg_value, std_value\n",
    "```\n",
    "# 好像运行不了"
   ]
  },
  {
   "cell_type": "markdown",
   "metadata": {},
   "source": [
    "mysql中将检索结果创建到新表有两种方法：\n",
    "```mysql\n",
    "# 新表不存在\n",
    "create table new_table\n",
    "select * from old_talbe;\n",
    "```\n",
    "```mysql\n",
    "# 新表存在\n",
    "insert into new_table(field1,field2,.....)\n",
    "select * from old_table;\n",
    "```\n",
    "另外，通常对于分析、统计而言，建立视图也是很好的思路。"
   ]
  }
 ],
 "metadata": {
  "kernelspec": {
   "display_name": "Python 3",
   "language": "python",
   "name": "python3"
  },
  "language_info": {
   "codemirror_mode": {
    "name": "ipython",
    "version": 3
   },
   "file_extension": ".py",
   "mimetype": "text/x-python",
   "name": "python",
   "nbconvert_exporter": "python",
   "pygments_lexer": "ipython3",
   "version": "3.7.3"
  }
 },
 "nbformat": 4,
 "nbformat_minor": 4
}
